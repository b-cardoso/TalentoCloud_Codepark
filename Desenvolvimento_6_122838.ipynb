{
  "nbformat": 4,
  "nbformat_minor": 0,
  "metadata": {
    "colab": {
      "provenance": [],
      "authorship_tag": "ABX9TyOWQZpw/Y1x5t5wDHUFrPCj",
      "include_colab_link": true
    },
    "kernelspec": {
      "name": "python3",
      "display_name": "Python 3"
    },
    "language_info": {
      "name": "python"
    }
  },
  "cells": [
    {
      "cell_type": "markdown",
      "metadata": {
        "id": "view-in-github",
        "colab_type": "text"
      },
      "source": [
        "<a href=\"https://colab.research.google.com/github/b-cardoso/TalentoCloud_Codepark/blob/main/Desenvolvimento_6_122838.ipynb\" target=\"_parent\"><img src=\"https://colab.research.google.com/assets/colab-badge.svg\" alt=\"Open In Colab\"/></a>"
      ]
    },
    {
      "cell_type": "markdown",
      "source": [
        "**Instruções do projeto**\n",
        "\n",
        "Desenvolva um programa que recebe do usuário nome completo e ano de nascimento que seja entre 1922 e 2021.\n",
        "A partir dessas informações, o sistema mostrará o nome do usuário e a idade que completou, ou completará, no ano atual (2022).\n",
        "\n",
        "Caso o usuário não digite um número ou apareça um inválido no campo do ano, o sistema informará o erro e continuará perguntando até que um valor correto seja preenchido."
      ],
      "metadata": {
        "id": "2Slhs5SFdVYi"
      }
    },
    {
      "cell_type": "code",
      "execution_count": null,
      "metadata": {
        "id": "WfCVCvQwdT93"
      },
      "outputs": [],
      "source": [
        "nome = str(input(\"Digite seu nome completo: \"))\n",
        "idade = 2022-anoNasc\n",
        "\n",
        "anoValido = False\n",
        "\n",
        "while(anoValido==False):\n",
        "  try:\n",
        "    anoNasc = int(input(\"Digite o ano do seu nascimento: \"))\n",
        "\n",
        "    if 1922<= anoNasc <=2021:\n",
        "      print(f\"Olá, {nome}!\\nvocê completou ou completará\", idade,\"anos em 2022\")\n",
        "\n",
        "  except ValueError:\n",
        "    print(\"Você não digitou um ano válido!\")\n",
        "\n"
      ]
    },
    {
      "cell_type": "markdown",
      "source": [],
      "metadata": {
        "id": "Bsqxb9zkrc5l"
      }
    }
  ]
}