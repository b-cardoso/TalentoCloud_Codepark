{
  "nbformat": 4,
  "nbformat_minor": 0,
  "metadata": {
    "colab": {
      "provenance": [],
      "authorship_tag": "ABX9TyNj+aPtpWJkDZasfAFrBWGg",
      "include_colab_link": true
    },
    "kernelspec": {
      "name": "python3",
      "display_name": "Python 3"
    },
    "language_info": {
      "name": "python"
    }
  },
  "cells": [
    {
      "cell_type": "markdown",
      "metadata": {
        "id": "view-in-github",
        "colab_type": "text"
      },
      "source": [
        "<a href=\"https://colab.research.google.com/github/b-cardoso/TalentoCloud_Codepark/blob/main/Desenvolvimento_5_122833.ipynb\" target=\"_parent\"><img src=\"https://colab.research.google.com/assets/colab-badge.svg\" alt=\"Open In Colab\"/></a>"
      ]
    },
    {
      "cell_type": "markdown",
      "source": [
        "**Instruções do projeto**\n",
        "\n",
        "Faça uma função calculadora que os números e as operações serão feitas pelo usuário. O código deve ficar rodando infinitamente até que o usuário escolha a opção de sair. No início, o programa mostrará a seguinte lista de operações:\n",
        "\n",
        "1: Soma\n",
        "2: Subtração\n",
        "3: Multiplicação\n",
        "4: Divisão\n",
        "0: Sair\n",
        "\n",
        "Digite o número para a operação correspondente e caso o usuário introduza qualquer outro, o sistema deve mostrar a mensagem “Essa opção não existe” e voltar ao menu de opções.\n",
        "\n",
        "Após a seleção, o sistema deve pedir para o usuário inserir o primeiro e segundo valor, um de cada. Depois precisa executar a operação e mostrar o resultado na tela. Quando o usuário escolher a opção “Sair”, o sistema irá parar.\n",
        "\n",
        "É necessário que o sistema mostre as opções sempre que finalizar uma operação e mostrar o resultado."
      ],
      "metadata": {
        "id": "hzNG8N1MPVlr"
      }
    },
    {
      "cell_type": "markdown",
      "source": [],
      "metadata": {
        "id": "0HAri_XRRpte"
      }
    },
    {
      "cell_type": "code",
      "execution_count": null,
      "metadata": {
        "id": "vU7ZYeckPTpg"
      },
      "outputs": [],
      "source": [
        "#Função Calculadora\n",
        "\n",
        "def soma():\n",
        "  x = float(input(\"Digite o primeiro número: \"))\n",
        "  y = float(input(\"Digite o segundo número: \"))\n",
        "  print(\"Soma: \", x+y)\n",
        "\n",
        "def sub():\n",
        "  x = float(input(\"Digite o primeiro número: \"))\n",
        "  y = float(input(\"Digite o segundo número: \"))\n",
        "  print(\"Subtração: \", x-y)\n",
        "\n",
        "def mult():\n",
        "  x = float(input(\"Digite o primeiro número: \"))\n",
        "  y = float(input(\"Digite o segundo número: \"))\n",
        "  print(\"Multiplicação: \", x*y)\n",
        "\n",
        "def div():\n",
        "  x = float(input(\"Digite o primeiro número: \"))\n",
        "  y = float(input(\"Digite o segundo número: \"))\n",
        "  print(\"Divisão: \", x/y)\n",
        "\n",
        "op=1\n",
        "\n",
        "while op:\n",
        "  print(\"SELECIONE A OPÇÃO DESEJADA: \")\n",
        "  print(\"Digite 1 para Somar\")\n",
        "  print(\"Digite 2 para Subtrair\")\n",
        "  print(\"Digite 3 para Multiplicar\")\n",
        "  print(\"Digite 4 para Dividir\")\n",
        "  print(\"\\nDigite 0 para Sair\")\n",
        "\n",
        "  op=int(input(\"Opção: \"))\n",
        "\n",
        "  if(op==1):\n",
        "    soma()\n",
        "  if(op==2):\n",
        "    sub()\n",
        "  if(op==3):\n",
        "    mult()\n",
        "  if(op==4):\n",
        "    div()\n"
      ]
    },
    {
      "cell_type": "code",
      "source": [],
      "metadata": {
        "id": "lNrwa1pZScZ9"
      },
      "execution_count": null,
      "outputs": []
    }
  ]
}